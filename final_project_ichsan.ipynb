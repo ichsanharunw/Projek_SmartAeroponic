{
 "cells": [
  {
   "cell_type": "code",
   "execution_count": 1,
   "id": "ccba52ae",
   "metadata": {},
   "outputs": [],
   "source": [
    "import matplotlib.pyplot as plt\n",
    "import seaborn as sns\n",
    "import pandas as pd\n",
    "import numpy as np"
   ]
  },
  {
   "cell_type": "code",
   "execution_count": 2,
   "id": "0bb7bb4e",
   "metadata": {},
   "outputs": [
    {
     "name": "stdout",
     "output_type": "stream",
     "text": [
      "Requirement already satisfied: openpyxl in d:\\miniconda\\envs\\cv_env\\lib\\site-packages (3.1.1)\n",
      "Requirement already satisfied: et-xmlfile in d:\\miniconda\\envs\\cv_env\\lib\\site-packages (from openpyxl) (1.1.0)\n",
      "Note: you may need to restart the kernel to use updated packages.\n"
     ]
    }
   ],
   "source": [
    "pip install openpyxl"
   ]
  },
  {
   "cell_type": "code",
   "execution_count": 3,
   "id": "d9bb1ba4",
   "metadata": {},
   "outputs": [],
   "source": [
    "import openpyxl"
   ]
  },
  {
   "cell_type": "code",
   "execution_count": 4,
   "id": "ec634e80",
   "metadata": {},
   "outputs": [
    {
     "name": "stdout",
     "output_type": "stream",
     "text": [
      "Requirement already satisfied: imbalanced-learn in d:\\miniconda\\envs\\cv_env\\lib\\site-packages (0.10.1)\n",
      "Requirement already satisfied: joblib>=1.1.1 in d:\\miniconda\\envs\\cv_env\\lib\\site-packages (from imbalanced-learn) (1.2.0)\n",
      "Requirement already satisfied: scikit-learn>=1.0.2 in d:\\miniconda\\envs\\cv_env\\lib\\site-packages (from imbalanced-learn) (1.2.1)\n",
      "Requirement already satisfied: scipy>=1.3.2 in d:\\miniconda\\envs\\cv_env\\lib\\site-packages (from imbalanced-learn) (1.7.3)\n",
      "Requirement already satisfied: threadpoolctl>=2.0.0 in d:\\miniconda\\envs\\cv_env\\lib\\site-packages (from imbalanced-learn) (3.1.0)\n",
      "Requirement already satisfied: numpy>=1.17.3 in d:\\miniconda\\envs\\cv_env\\lib\\site-packages (from imbalanced-learn) (1.21.5)\n",
      "Note: you may need to restart the kernel to use updated packages.\n"
     ]
    }
   ],
   "source": [
    "pip install -U imbalanced-learn"
   ]
  },
  {
   "cell_type": "code",
   "execution_count": 5,
   "id": "5699b8aa",
   "metadata": {},
   "outputs": [
    {
     "data": {
      "text/html": [
       "<div>\n",
       "<style scoped>\n",
       "    .dataframe tbody tr th:only-of-type {\n",
       "        vertical-align: middle;\n",
       "    }\n",
       "\n",
       "    .dataframe tbody tr th {\n",
       "        vertical-align: top;\n",
       "    }\n",
       "\n",
       "    .dataframe thead th {\n",
       "        text-align: right;\n",
       "    }\n",
       "</style>\n",
       "<table border=\"1\" class=\"dataframe\">\n",
       "  <thead>\n",
       "    <tr style=\"text-align: right;\">\n",
       "      <th></th>\n",
       "      <th>Unnamed: 0</th>\n",
       "      <th>Unnamed: 1</th>\n",
       "      <th>Unnamed: 2</th>\n",
       "      <th>Unnamed: 3</th>\n",
       "      <th>Unnamed: 4</th>\n",
       "      <th>Unnamed: 5</th>\n",
       "      <th>s</th>\n",
       "    </tr>\n",
       "  </thead>\n",
       "  <tbody>\n",
       "    <tr>\n",
       "      <th>0</th>\n",
       "      <td>NaN</td>\n",
       "      <td>NaN</td>\n",
       "      <td>NaN</td>\n",
       "      <td>NaN</td>\n",
       "      <td>NaN</td>\n",
       "      <td>NaN</td>\n",
       "      <td>NaN</td>\n",
       "    </tr>\n",
       "    <tr>\n",
       "      <th>1</th>\n",
       "      <td>NaN</td>\n",
       "      <td>NaN</td>\n",
       "      <td>NaN</td>\n",
       "      <td>NaN</td>\n",
       "      <td>NaN</td>\n",
       "      <td>NaN</td>\n",
       "      <td>NaN</td>\n",
       "    </tr>\n",
       "    <tr>\n",
       "      <th>2</th>\n",
       "      <td>NaN</td>\n",
       "      <td>NaN</td>\n",
       "      <td>NaN</td>\n",
       "      <td>NaN</td>\n",
       "      <td>NaN</td>\n",
       "      <td>NaN</td>\n",
       "      <td>NaN</td>\n",
       "    </tr>\n",
       "    <tr>\n",
       "      <th>3</th>\n",
       "      <td>NaN</td>\n",
       "      <td>NaN</td>\n",
       "      <td>NaN</td>\n",
       "      <td>NaN</td>\n",
       "      <td>NaN</td>\n",
       "      <td>NaN</td>\n",
       "      <td>NaN</td>\n",
       "    </tr>\n",
       "    <tr>\n",
       "      <th>4</th>\n",
       "      <td>Tanggal</td>\n",
       "      <td>Waktu</td>\n",
       "      <td>Suhu (°C)</td>\n",
       "      <td>Kelembaban_Udara (%)</td>\n",
       "      <td>Intensitas Cahaya (Lux)</td>\n",
       "      <td>Label</td>\n",
       "      <td>Keterangan</td>\n",
       "    </tr>\n",
       "    <tr>\n",
       "      <th>...</th>\n",
       "      <td>...</td>\n",
       "      <td>...</td>\n",
       "      <td>...</td>\n",
       "      <td>...</td>\n",
       "      <td>...</td>\n",
       "      <td>...</td>\n",
       "      <td>...</td>\n",
       "    </tr>\n",
       "    <tr>\n",
       "      <th>120</th>\n",
       "      <td>2022-06-06 00:00:00</td>\n",
       "      <td>03:00:00</td>\n",
       "      <td>25.4</td>\n",
       "      <td>76.21</td>\n",
       "      <td>NaN</td>\n",
       "      <td>NaN</td>\n",
       "      <td>ideal</td>\n",
       "    </tr>\n",
       "    <tr>\n",
       "      <th>121</th>\n",
       "      <td>2022-06-06 00:00:00</td>\n",
       "      <td>04:00:00</td>\n",
       "      <td>25.4</td>\n",
       "      <td>74.73</td>\n",
       "      <td>NaN</td>\n",
       "      <td>NaN</td>\n",
       "      <td>ideal</td>\n",
       "    </tr>\n",
       "    <tr>\n",
       "      <th>122</th>\n",
       "      <td>2022-06-06 00:00:00</td>\n",
       "      <td>05:00:00</td>\n",
       "      <td>25.09</td>\n",
       "      <td>74.13</td>\n",
       "      <td>NaN</td>\n",
       "      <td>NaN</td>\n",
       "      <td>Tidak Ideal Intensitas Cahaya</td>\n",
       "    </tr>\n",
       "    <tr>\n",
       "      <th>123</th>\n",
       "      <td>2022-06-06 00:00:00</td>\n",
       "      <td>06:00:00</td>\n",
       "      <td>23.85</td>\n",
       "      <td>78.56</td>\n",
       "      <td>NaN</td>\n",
       "      <td>NaN</td>\n",
       "      <td>Ideal</td>\n",
       "    </tr>\n",
       "    <tr>\n",
       "      <th>124</th>\n",
       "      <td>2022-06-06 00:00:00</td>\n",
       "      <td>07:00:00</td>\n",
       "      <td>22.59</td>\n",
       "      <td>83.25</td>\n",
       "      <td>NaN</td>\n",
       "      <td>NaN</td>\n",
       "      <td>Tidak Ideal Intensitas Cahaya</td>\n",
       "    </tr>\n",
       "  </tbody>\n",
       "</table>\n",
       "<p>125 rows × 7 columns</p>\n",
       "</div>"
      ],
      "text/plain": [
       "              Unnamed: 0 Unnamed: 1 Unnamed: 2            Unnamed: 3  \\\n",
       "0                    NaN        NaN        NaN                   NaN   \n",
       "1                    NaN        NaN        NaN                   NaN   \n",
       "2                    NaN        NaN        NaN                   NaN   \n",
       "3                    NaN        NaN        NaN                   NaN   \n",
       "4                Tanggal      Waktu  Suhu (°C)  Kelembaban_Udara (%)   \n",
       "..                   ...        ...        ...                   ...   \n",
       "120  2022-06-06 00:00:00   03:00:00       25.4                 76.21   \n",
       "121  2022-06-06 00:00:00   04:00:00       25.4                 74.73   \n",
       "122  2022-06-06 00:00:00   05:00:00      25.09                 74.13   \n",
       "123  2022-06-06 00:00:00   06:00:00      23.85                 78.56   \n",
       "124  2022-06-06 00:00:00   07:00:00      22.59                 83.25   \n",
       "\n",
       "                  Unnamed: 4 Unnamed: 5                              s  \n",
       "0                        NaN        NaN                            NaN  \n",
       "1                        NaN        NaN                            NaN  \n",
       "2                        NaN        NaN                            NaN  \n",
       "3                        NaN        NaN                            NaN  \n",
       "4    Intensitas Cahaya (Lux)      Label                     Keterangan  \n",
       "..                       ...        ...                            ...  \n",
       "120                      NaN        NaN                          ideal  \n",
       "121                      NaN        NaN                          ideal  \n",
       "122                      NaN        NaN  Tidak Ideal Intensitas Cahaya  \n",
       "123                      NaN        NaN                          Ideal  \n",
       "124                      NaN        NaN  Tidak Ideal Intensitas Cahaya  \n",
       "\n",
       "[125 rows x 7 columns]"
      ]
     },
     "execution_count": 5,
     "metadata": {},
     "output_type": "execute_result"
    }
   ],
   "source": [
    "df = pd.read_excel(\"data.xlsx\")\n",
    "df"
   ]
  },
  {
   "cell_type": "code",
   "execution_count": 6,
   "id": "438a9e41",
   "metadata": {},
   "outputs": [],
   "source": [
    "df.columns = ['Tanggal', 'Waktu', 'Suhu(*C)', 'Kelembaban_Udara(%)', 'Intensitas_Cahaya(Lux)', 'Label', 'Keterangan']"
   ]
  },
  {
   "cell_type": "code",
   "execution_count": 7,
   "id": "7080fc7b",
   "metadata": {},
   "outputs": [
    {
     "data": {
      "text/html": [
       "<div>\n",
       "<style scoped>\n",
       "    .dataframe tbody tr th:only-of-type {\n",
       "        vertical-align: middle;\n",
       "    }\n",
       "\n",
       "    .dataframe tbody tr th {\n",
       "        vertical-align: top;\n",
       "    }\n",
       "\n",
       "    .dataframe thead th {\n",
       "        text-align: right;\n",
       "    }\n",
       "</style>\n",
       "<table border=\"1\" class=\"dataframe\">\n",
       "  <thead>\n",
       "    <tr style=\"text-align: right;\">\n",
       "      <th></th>\n",
       "      <th>Tanggal</th>\n",
       "      <th>Waktu</th>\n",
       "      <th>Suhu(*C)</th>\n",
       "      <th>Kelembaban_Udara(%)</th>\n",
       "      <th>Intensitas_Cahaya(Lux)</th>\n",
       "      <th>Label</th>\n",
       "      <th>Keterangan</th>\n",
       "    </tr>\n",
       "  </thead>\n",
       "  <tbody>\n",
       "    <tr>\n",
       "      <th>0</th>\n",
       "      <td>NaN</td>\n",
       "      <td>NaN</td>\n",
       "      <td>NaN</td>\n",
       "      <td>NaN</td>\n",
       "      <td>NaN</td>\n",
       "      <td>NaN</td>\n",
       "      <td>NaN</td>\n",
       "    </tr>\n",
       "    <tr>\n",
       "      <th>1</th>\n",
       "      <td>NaN</td>\n",
       "      <td>NaN</td>\n",
       "      <td>NaN</td>\n",
       "      <td>NaN</td>\n",
       "      <td>NaN</td>\n",
       "      <td>NaN</td>\n",
       "      <td>NaN</td>\n",
       "    </tr>\n",
       "    <tr>\n",
       "      <th>2</th>\n",
       "      <td>NaN</td>\n",
       "      <td>NaN</td>\n",
       "      <td>NaN</td>\n",
       "      <td>NaN</td>\n",
       "      <td>NaN</td>\n",
       "      <td>NaN</td>\n",
       "      <td>NaN</td>\n",
       "    </tr>\n",
       "    <tr>\n",
       "      <th>3</th>\n",
       "      <td>NaN</td>\n",
       "      <td>NaN</td>\n",
       "      <td>NaN</td>\n",
       "      <td>NaN</td>\n",
       "      <td>NaN</td>\n",
       "      <td>NaN</td>\n",
       "      <td>NaN</td>\n",
       "    </tr>\n",
       "    <tr>\n",
       "      <th>4</th>\n",
       "      <td>Tanggal</td>\n",
       "      <td>Waktu</td>\n",
       "      <td>Suhu (°C)</td>\n",
       "      <td>Kelembaban_Udara (%)</td>\n",
       "      <td>Intensitas Cahaya (Lux)</td>\n",
       "      <td>Label</td>\n",
       "      <td>Keterangan</td>\n",
       "    </tr>\n",
       "    <tr>\n",
       "      <th>...</th>\n",
       "      <td>...</td>\n",
       "      <td>...</td>\n",
       "      <td>...</td>\n",
       "      <td>...</td>\n",
       "      <td>...</td>\n",
       "      <td>...</td>\n",
       "      <td>...</td>\n",
       "    </tr>\n",
       "    <tr>\n",
       "      <th>120</th>\n",
       "      <td>2022-06-06 00:00:00</td>\n",
       "      <td>03:00:00</td>\n",
       "      <td>25.4</td>\n",
       "      <td>76.21</td>\n",
       "      <td>NaN</td>\n",
       "      <td>NaN</td>\n",
       "      <td>ideal</td>\n",
       "    </tr>\n",
       "    <tr>\n",
       "      <th>121</th>\n",
       "      <td>2022-06-06 00:00:00</td>\n",
       "      <td>04:00:00</td>\n",
       "      <td>25.4</td>\n",
       "      <td>74.73</td>\n",
       "      <td>NaN</td>\n",
       "      <td>NaN</td>\n",
       "      <td>ideal</td>\n",
       "    </tr>\n",
       "    <tr>\n",
       "      <th>122</th>\n",
       "      <td>2022-06-06 00:00:00</td>\n",
       "      <td>05:00:00</td>\n",
       "      <td>25.09</td>\n",
       "      <td>74.13</td>\n",
       "      <td>NaN</td>\n",
       "      <td>NaN</td>\n",
       "      <td>Tidak Ideal Intensitas Cahaya</td>\n",
       "    </tr>\n",
       "    <tr>\n",
       "      <th>123</th>\n",
       "      <td>2022-06-06 00:00:00</td>\n",
       "      <td>06:00:00</td>\n",
       "      <td>23.85</td>\n",
       "      <td>78.56</td>\n",
       "      <td>NaN</td>\n",
       "      <td>NaN</td>\n",
       "      <td>Ideal</td>\n",
       "    </tr>\n",
       "    <tr>\n",
       "      <th>124</th>\n",
       "      <td>2022-06-06 00:00:00</td>\n",
       "      <td>07:00:00</td>\n",
       "      <td>22.59</td>\n",
       "      <td>83.25</td>\n",
       "      <td>NaN</td>\n",
       "      <td>NaN</td>\n",
       "      <td>Tidak Ideal Intensitas Cahaya</td>\n",
       "    </tr>\n",
       "  </tbody>\n",
       "</table>\n",
       "<p>125 rows × 7 columns</p>\n",
       "</div>"
      ],
      "text/plain": [
       "                 Tanggal     Waktu   Suhu(*C)   Kelembaban_Udara(%)  \\\n",
       "0                    NaN       NaN        NaN                   NaN   \n",
       "1                    NaN       NaN        NaN                   NaN   \n",
       "2                    NaN       NaN        NaN                   NaN   \n",
       "3                    NaN       NaN        NaN                   NaN   \n",
       "4                Tanggal     Waktu  Suhu (°C)  Kelembaban_Udara (%)   \n",
       "..                   ...       ...        ...                   ...   \n",
       "120  2022-06-06 00:00:00  03:00:00       25.4                 76.21   \n",
       "121  2022-06-06 00:00:00  04:00:00       25.4                 74.73   \n",
       "122  2022-06-06 00:00:00  05:00:00      25.09                 74.13   \n",
       "123  2022-06-06 00:00:00  06:00:00      23.85                 78.56   \n",
       "124  2022-06-06 00:00:00  07:00:00      22.59                 83.25   \n",
       "\n",
       "      Intensitas_Cahaya(Lux)  Label                     Keterangan  \n",
       "0                        NaN    NaN                            NaN  \n",
       "1                        NaN    NaN                            NaN  \n",
       "2                        NaN    NaN                            NaN  \n",
       "3                        NaN    NaN                            NaN  \n",
       "4    Intensitas Cahaya (Lux)  Label                     Keterangan  \n",
       "..                       ...    ...                            ...  \n",
       "120                      NaN    NaN                          ideal  \n",
       "121                      NaN    NaN                          ideal  \n",
       "122                      NaN    NaN  Tidak Ideal Intensitas Cahaya  \n",
       "123                      NaN    NaN                          Ideal  \n",
       "124                      NaN    NaN  Tidak Ideal Intensitas Cahaya  \n",
       "\n",
       "[125 rows x 7 columns]"
      ]
     },
     "execution_count": 7,
     "metadata": {},
     "output_type": "execute_result"
    }
   ],
   "source": [
    "df"
   ]
  },
  {
   "cell_type": "code",
   "execution_count": 43,
   "id": "5c031cbd",
   "metadata": {},
   "outputs": [
    {
     "data": {
      "text/html": [
       "<div>\n",
       "<style scoped>\n",
       "    .dataframe tbody tr th:only-of-type {\n",
       "        vertical-align: middle;\n",
       "    }\n",
       "\n",
       "    .dataframe tbody tr th {\n",
       "        vertical-align: top;\n",
       "    }\n",
       "\n",
       "    .dataframe thead th {\n",
       "        text-align: right;\n",
       "    }\n",
       "</style>\n",
       "<table border=\"1\" class=\"dataframe\">\n",
       "  <thead>\n",
       "    <tr style=\"text-align: right;\">\n",
       "      <th></th>\n",
       "      <th>Tanggal</th>\n",
       "      <th>Waktu</th>\n",
       "      <th>Suhu(*C)</th>\n",
       "      <th>Kelembaban_Udara(%)</th>\n",
       "      <th>Intensitas_Cahaya(Lux)</th>\n",
       "      <th>Label</th>\n",
       "      <th>Keterangan</th>\n",
       "    </tr>\n",
       "  </thead>\n",
       "  <tbody>\n",
       "    <tr>\n",
       "      <th>6</th>\n",
       "      <td>44682</td>\n",
       "      <td>09.00</td>\n",
       "      <td>23.91</td>\n",
       "      <td>82.17</td>\n",
       "      <td>158.699385</td>\n",
       "      <td>3</td>\n",
       "      <td>Ideal</td>\n",
       "    </tr>\n",
       "    <tr>\n",
       "      <th>7</th>\n",
       "      <td>44682</td>\n",
       "      <td>10:00:00</td>\n",
       "      <td>24.2</td>\n",
       "      <td>81.62</td>\n",
       "      <td>128.27051</td>\n",
       "      <td>3</td>\n",
       "      <td>Tidak Ideal Intensitas Cahaya</td>\n",
       "    </tr>\n",
       "    <tr>\n",
       "      <th>8</th>\n",
       "      <td>44682</td>\n",
       "      <td>11:00:00</td>\n",
       "      <td>25</td>\n",
       "      <td>80.54</td>\n",
       "      <td>95.87</td>\n",
       "      <td>3</td>\n",
       "      <td>Tidak Ideal Intensitas Cahaya</td>\n",
       "    </tr>\n",
       "    <tr>\n",
       "      <th>9</th>\n",
       "      <td>44682</td>\n",
       "      <td>12:00:00</td>\n",
       "      <td>25.8</td>\n",
       "      <td>79.99</td>\n",
       "      <td>129.27051</td>\n",
       "      <td>3</td>\n",
       "      <td>Tidak Ideal Intensitas Cahaya</td>\n",
       "    </tr>\n",
       "    <tr>\n",
       "      <th>10</th>\n",
       "      <td>44682</td>\n",
       "      <td>13:00:00</td>\n",
       "      <td>26.3</td>\n",
       "      <td>77.02</td>\n",
       "      <td>178.511805</td>\n",
       "      <td>3</td>\n",
       "      <td>Ideal</td>\n",
       "    </tr>\n",
       "    <tr>\n",
       "      <th>...</th>\n",
       "      <td>...</td>\n",
       "      <td>...</td>\n",
       "      <td>...</td>\n",
       "      <td>...</td>\n",
       "      <td>...</td>\n",
       "      <td>...</td>\n",
       "      <td>...</td>\n",
       "    </tr>\n",
       "    <tr>\n",
       "      <th>121</th>\n",
       "      <td>44718</td>\n",
       "      <td>04:00:00</td>\n",
       "      <td>25.4</td>\n",
       "      <td>74.73</td>\n",
       "      <td>143.27051</td>\n",
       "      <td>0</td>\n",
       "      <td>ideal</td>\n",
       "    </tr>\n",
       "    <tr>\n",
       "      <th>122</th>\n",
       "      <td>44718</td>\n",
       "      <td>05:00:00</td>\n",
       "      <td>25.09</td>\n",
       "      <td>74.13</td>\n",
       "      <td>110.87</td>\n",
       "      <td>3</td>\n",
       "      <td>Tidak Ideal Intensitas Cahaya</td>\n",
       "    </tr>\n",
       "    <tr>\n",
       "      <th>123</th>\n",
       "      <td>44718</td>\n",
       "      <td>06:00:00</td>\n",
       "      <td>23.85</td>\n",
       "      <td>78.56</td>\n",
       "      <td>106.043771</td>\n",
       "      <td>0</td>\n",
       "      <td>Ideal</td>\n",
       "    </tr>\n",
       "    <tr>\n",
       "      <th>124</th>\n",
       "      <td>44718</td>\n",
       "      <td>07:00:00</td>\n",
       "      <td>22.59</td>\n",
       "      <td>83.25</td>\n",
       "      <td>141.27051</td>\n",
       "      <td>3</td>\n",
       "      <td>Tidak Ideal Intensitas Cahaya</td>\n",
       "    </tr>\n",
       "    <tr>\n",
       "      <th>125</th>\n",
       "      <td>44718</td>\n",
       "      <td>08:00:00</td>\n",
       "      <td>29.87</td>\n",
       "      <td>76.63</td>\n",
       "      <td>143.310551</td>\n",
       "      <td>1</td>\n",
       "      <td>Tidak Ideal Temperature</td>\n",
       "    </tr>\n",
       "  </tbody>\n",
       "</table>\n",
       "<p>120 rows × 7 columns</p>\n",
       "</div>"
      ],
      "text/plain": [
       "    Tanggal     Waktu Suhu(*C) Kelembaban_Udara(%) Intensitas_Cahaya(Lux)  \\\n",
       "6     44682     09.00    23.91               82.17             158.699385   \n",
       "7     44682  10:00:00     24.2               81.62              128.27051   \n",
       "8     44682  11:00:00       25               80.54                  95.87   \n",
       "9     44682  12:00:00     25.8               79.99              129.27051   \n",
       "10    44682  13:00:00     26.3               77.02             178.511805   \n",
       "..      ...       ...      ...                 ...                    ...   \n",
       "121   44718  04:00:00     25.4               74.73              143.27051   \n",
       "122   44718  05:00:00    25.09               74.13                 110.87   \n",
       "123   44718  06:00:00    23.85               78.56             106.043771   \n",
       "124   44718  07:00:00    22.59               83.25              141.27051   \n",
       "125   44718  08:00:00    29.87               76.63             143.310551   \n",
       "\n",
       "    Label                     Keterangan  \n",
       "6       3                          Ideal  \n",
       "7       3  Tidak Ideal Intensitas Cahaya  \n",
       "8       3  Tidak Ideal Intensitas Cahaya  \n",
       "9       3  Tidak Ideal Intensitas Cahaya  \n",
       "10      3                          Ideal  \n",
       "..    ...                            ...  \n",
       "121     0                          ideal  \n",
       "122     3  Tidak Ideal Intensitas Cahaya  \n",
       "123     0                          Ideal  \n",
       "124     3  Tidak Ideal Intensitas Cahaya  \n",
       "125     1        Tidak Ideal Temperature  \n",
       "\n",
       "[120 rows x 7 columns]"
      ]
     },
     "execution_count": 43,
     "metadata": {},
     "output_type": "execute_result"
    }
   ],
   "source": [
    "df[6:]"
   ]
  },
  {
   "cell_type": "code",
   "execution_count": 8,
   "id": "bfca4559",
   "metadata": {},
   "outputs": [],
   "source": [
    "df = df[6:]"
   ]
  },
  {
   "cell_type": "code",
   "execution_count": 9,
   "id": "8d8f914d",
   "metadata": {},
   "outputs": [
    {
     "data": {
      "text/html": [
       "<div>\n",
       "<style scoped>\n",
       "    .dataframe tbody tr th:only-of-type {\n",
       "        vertical-align: middle;\n",
       "    }\n",
       "\n",
       "    .dataframe tbody tr th {\n",
       "        vertical-align: top;\n",
       "    }\n",
       "\n",
       "    .dataframe thead th {\n",
       "        text-align: right;\n",
       "    }\n",
       "</style>\n",
       "<table border=\"1\" class=\"dataframe\">\n",
       "  <thead>\n",
       "    <tr style=\"text-align: right;\">\n",
       "      <th></th>\n",
       "      <th>Tanggal</th>\n",
       "      <th>Waktu</th>\n",
       "      <th>Suhu(*C)</th>\n",
       "      <th>Kelembaban_Udara(%)</th>\n",
       "      <th>Intensitas_Cahaya(Lux)</th>\n",
       "      <th>Label</th>\n",
       "      <th>Keterangan</th>\n",
       "    </tr>\n",
       "  </thead>\n",
       "  <tbody>\n",
       "    <tr>\n",
       "      <th>6</th>\n",
       "      <td>2022-05-01 00:00:00</td>\n",
       "      <td>09.00</td>\n",
       "      <td>23.91</td>\n",
       "      <td>82.17</td>\n",
       "      <td>95.05</td>\n",
       "      <td>NaN</td>\n",
       "      <td>Ideal</td>\n",
       "    </tr>\n",
       "    <tr>\n",
       "      <th>7</th>\n",
       "      <td>2022-05-01 00:00:00</td>\n",
       "      <td>10:00:00</td>\n",
       "      <td>24.2</td>\n",
       "      <td>81.62</td>\n",
       "      <td>NaN</td>\n",
       "      <td>NaN</td>\n",
       "      <td>Tidak Ideal Intensitas Cahaya</td>\n",
       "    </tr>\n",
       "    <tr>\n",
       "      <th>8</th>\n",
       "      <td>2022-05-01 00:00:00</td>\n",
       "      <td>11:00:00</td>\n",
       "      <td>25</td>\n",
       "      <td>80.54</td>\n",
       "      <td>NaN</td>\n",
       "      <td>NaN</td>\n",
       "      <td>Tidak Ideal Intensitas Cahaya</td>\n",
       "    </tr>\n",
       "    <tr>\n",
       "      <th>9</th>\n",
       "      <td>2022-05-01 00:00:00</td>\n",
       "      <td>12:00:00</td>\n",
       "      <td>25.8</td>\n",
       "      <td>79.99</td>\n",
       "      <td>NaN</td>\n",
       "      <td>NaN</td>\n",
       "      <td>Tidak Ideal Intensitas Cahaya</td>\n",
       "    </tr>\n",
       "    <tr>\n",
       "      <th>10</th>\n",
       "      <td>2022-05-01 00:00:00</td>\n",
       "      <td>13:00:00</td>\n",
       "      <td>26.3</td>\n",
       "      <td>77.02</td>\n",
       "      <td>NaN</td>\n",
       "      <td>NaN</td>\n",
       "      <td>Ideal</td>\n",
       "    </tr>\n",
       "    <tr>\n",
       "      <th>...</th>\n",
       "      <td>...</td>\n",
       "      <td>...</td>\n",
       "      <td>...</td>\n",
       "      <td>...</td>\n",
       "      <td>...</td>\n",
       "      <td>...</td>\n",
       "      <td>...</td>\n",
       "    </tr>\n",
       "    <tr>\n",
       "      <th>120</th>\n",
       "      <td>2022-06-06 00:00:00</td>\n",
       "      <td>03:00:00</td>\n",
       "      <td>25.4</td>\n",
       "      <td>76.21</td>\n",
       "      <td>NaN</td>\n",
       "      <td>NaN</td>\n",
       "      <td>ideal</td>\n",
       "    </tr>\n",
       "    <tr>\n",
       "      <th>121</th>\n",
       "      <td>2022-06-06 00:00:00</td>\n",
       "      <td>04:00:00</td>\n",
       "      <td>25.4</td>\n",
       "      <td>74.73</td>\n",
       "      <td>NaN</td>\n",
       "      <td>NaN</td>\n",
       "      <td>ideal</td>\n",
       "    </tr>\n",
       "    <tr>\n",
       "      <th>122</th>\n",
       "      <td>2022-06-06 00:00:00</td>\n",
       "      <td>05:00:00</td>\n",
       "      <td>25.09</td>\n",
       "      <td>74.13</td>\n",
       "      <td>NaN</td>\n",
       "      <td>NaN</td>\n",
       "      <td>Tidak Ideal Intensitas Cahaya</td>\n",
       "    </tr>\n",
       "    <tr>\n",
       "      <th>123</th>\n",
       "      <td>2022-06-06 00:00:00</td>\n",
       "      <td>06:00:00</td>\n",
       "      <td>23.85</td>\n",
       "      <td>78.56</td>\n",
       "      <td>NaN</td>\n",
       "      <td>NaN</td>\n",
       "      <td>Ideal</td>\n",
       "    </tr>\n",
       "    <tr>\n",
       "      <th>124</th>\n",
       "      <td>2022-06-06 00:00:00</td>\n",
       "      <td>07:00:00</td>\n",
       "      <td>22.59</td>\n",
       "      <td>83.25</td>\n",
       "      <td>NaN</td>\n",
       "      <td>NaN</td>\n",
       "      <td>Tidak Ideal Intensitas Cahaya</td>\n",
       "    </tr>\n",
       "  </tbody>\n",
       "</table>\n",
       "<p>119 rows × 7 columns</p>\n",
       "</div>"
      ],
      "text/plain": [
       "                 Tanggal     Waktu Suhu(*C) Kelembaban_Udara(%)  \\\n",
       "6    2022-05-01 00:00:00     09.00    23.91               82.17   \n",
       "7    2022-05-01 00:00:00  10:00:00     24.2               81.62   \n",
       "8    2022-05-01 00:00:00  11:00:00       25               80.54   \n",
       "9    2022-05-01 00:00:00  12:00:00     25.8               79.99   \n",
       "10   2022-05-01 00:00:00  13:00:00     26.3               77.02   \n",
       "..                   ...       ...      ...                 ...   \n",
       "120  2022-06-06 00:00:00  03:00:00     25.4               76.21   \n",
       "121  2022-06-06 00:00:00  04:00:00     25.4               74.73   \n",
       "122  2022-06-06 00:00:00  05:00:00    25.09               74.13   \n",
       "123  2022-06-06 00:00:00  06:00:00    23.85               78.56   \n",
       "124  2022-06-06 00:00:00  07:00:00    22.59               83.25   \n",
       "\n",
       "    Intensitas_Cahaya(Lux) Label                     Keterangan  \n",
       "6                    95.05   NaN                          Ideal  \n",
       "7                      NaN   NaN  Tidak Ideal Intensitas Cahaya  \n",
       "8                      NaN   NaN  Tidak Ideal Intensitas Cahaya  \n",
       "9                      NaN   NaN  Tidak Ideal Intensitas Cahaya  \n",
       "10                     NaN   NaN                          Ideal  \n",
       "..                     ...   ...                            ...  \n",
       "120                    NaN   NaN                          ideal  \n",
       "121                    NaN   NaN                          ideal  \n",
       "122                    NaN   NaN  Tidak Ideal Intensitas Cahaya  \n",
       "123                    NaN   NaN                          Ideal  \n",
       "124                    NaN   NaN  Tidak Ideal Intensitas Cahaya  \n",
       "\n",
       "[119 rows x 7 columns]"
      ]
     },
     "execution_count": 9,
     "metadata": {},
     "output_type": "execute_result"
    }
   ],
   "source": [
    "df"
   ]
  },
  {
   "cell_type": "markdown",
   "id": "72937e48",
   "metadata": {},
   "source": [
    "# Analysis Data "
   ]
  },
  {
   "cell_type": "code",
   "execution_count": 11,
   "id": "064ee040",
   "metadata": {
    "scrolled": true
   },
   "outputs": [
    {
     "name": "stdout",
     "output_type": "stream",
     "text": [
      "<class 'pandas.core.frame.DataFrame'>\n",
      "RangeIndex: 119 entries, 6 to 124\n",
      "Data columns (total 7 columns):\n",
      " #   Column                  Non-Null Count  Dtype \n",
      "---  ------                  --------------  ----- \n",
      " 0   Tanggal                 119 non-null    object\n",
      " 1   Waktu                   119 non-null    object\n",
      " 2   Suhu(*C)                119 non-null    object\n",
      " 3   Kelembaban_Udara(%)     119 non-null    object\n",
      " 4   Intensitas_Cahaya(Lux)  1 non-null      object\n",
      " 5   Label                   0 non-null      object\n",
      " 6   Keterangan              119 non-null    object\n",
      "dtypes: object(7)\n",
      "memory usage: 6.6+ KB\n"
     ]
    }
   ],
   "source": [
    "df.info()"
   ]
  },
  {
   "cell_type": "code",
   "execution_count": 13,
   "id": "ebd35283",
   "metadata": {},
   "outputs": [
    {
     "data": {
      "text/plain": [
       "Series([], Name: Label, dtype: int64)"
      ]
     },
     "execution_count": 13,
     "metadata": {},
     "output_type": "execute_result"
    }
   ],
   "source": [
    "df[\"Label\"].value_counts()"
   ]
  },
  {
   "cell_type": "code",
   "execution_count": 15,
   "id": "955bc263",
   "metadata": {
    "scrolled": false
   },
   "outputs": [
    {
     "ename": "KeyError",
     "evalue": "0",
     "output_type": "error",
     "traceback": [
      "\u001b[1;31m---------------------------------------------------------------------------\u001b[0m",
      "\u001b[1;31mValueError\u001b[0m                                Traceback (most recent call last)",
      "File \u001b[1;32mD:\\Miniconda\\envs\\cv_env\\lib\\site-packages\\pandas\\core\\indexes\\range.py:391\u001b[0m, in \u001b[0;36mRangeIndex.get_loc\u001b[1;34m(self, key, method, tolerance)\u001b[0m\n\u001b[0;32m    390\u001b[0m \u001b[38;5;28;01mtry\u001b[39;00m:\n\u001b[1;32m--> 391\u001b[0m     \u001b[38;5;28;01mreturn\u001b[39;00m \u001b[38;5;28;43mself\u001b[39;49m\u001b[38;5;241;43m.\u001b[39;49m\u001b[43m_range\u001b[49m\u001b[38;5;241;43m.\u001b[39;49m\u001b[43mindex\u001b[49m\u001b[43m(\u001b[49m\u001b[43mnew_key\u001b[49m\u001b[43m)\u001b[49m\n\u001b[0;32m    392\u001b[0m \u001b[38;5;28;01mexcept\u001b[39;00m \u001b[38;5;167;01mValueError\u001b[39;00m \u001b[38;5;28;01mas\u001b[39;00m err:\n",
      "\u001b[1;31mValueError\u001b[0m: 0 is not in range",
      "\nThe above exception was the direct cause of the following exception:\n",
      "\u001b[1;31mKeyError\u001b[0m                                  Traceback (most recent call last)",
      "Cell \u001b[1;32mIn [15], line 2\u001b[0m\n\u001b[0;32m      1\u001b[0m plt\u001b[38;5;241m.\u001b[39mfigure(figsize \u001b[38;5;241m=\u001b[39m (\u001b[38;5;241m15\u001b[39m,\u001b[38;5;241m5\u001b[39m))\n\u001b[1;32m----> 2\u001b[0m \u001b[43msns\u001b[49m\u001b[38;5;241;43m.\u001b[39;49m\u001b[43mcountplot\u001b[49m\u001b[43m(\u001b[49m\u001b[43mdf\u001b[49m\u001b[43m[\u001b[49m\u001b[38;5;124;43m'\u001b[39;49m\u001b[38;5;124;43mLabel\u001b[39;49m\u001b[38;5;124;43m'\u001b[39;49m\u001b[43m]\u001b[49m\u001b[43m)\u001b[49m\n\u001b[0;32m      3\u001b[0m plt\u001b[38;5;241m.\u001b[39mshow()\n",
      "File \u001b[1;32mD:\\Miniconda\\envs\\cv_env\\lib\\site-packages\\seaborn\\categorical.py:2943\u001b[0m, in \u001b[0;36mcountplot\u001b[1;34m(data, x, y, hue, order, hue_order, orient, color, palette, saturation, width, dodge, ax, **kwargs)\u001b[0m\n\u001b[0;32m   2940\u001b[0m \u001b[38;5;28;01melif\u001b[39;00m x \u001b[38;5;129;01mis\u001b[39;00m \u001b[38;5;129;01mnot\u001b[39;00m \u001b[38;5;28;01mNone\u001b[39;00m \u001b[38;5;129;01mand\u001b[39;00m y \u001b[38;5;129;01mis\u001b[39;00m \u001b[38;5;129;01mnot\u001b[39;00m \u001b[38;5;28;01mNone\u001b[39;00m:\n\u001b[0;32m   2941\u001b[0m     \u001b[38;5;28;01mraise\u001b[39;00m \u001b[38;5;167;01mValueError\u001b[39;00m(\u001b[38;5;124m\"\u001b[39m\u001b[38;5;124mCannot pass values for both `x` and `y`\u001b[39m\u001b[38;5;124m\"\u001b[39m)\n\u001b[1;32m-> 2943\u001b[0m plotter \u001b[38;5;241m=\u001b[39m \u001b[43m_CountPlotter\u001b[49m\u001b[43m(\u001b[49m\n\u001b[0;32m   2944\u001b[0m \u001b[43m    \u001b[49m\u001b[43mx\u001b[49m\u001b[43m,\u001b[49m\u001b[43m \u001b[49m\u001b[43my\u001b[49m\u001b[43m,\u001b[49m\u001b[43m \u001b[49m\u001b[43mhue\u001b[49m\u001b[43m,\u001b[49m\u001b[43m \u001b[49m\u001b[43mdata\u001b[49m\u001b[43m,\u001b[49m\u001b[43m \u001b[49m\u001b[43morder\u001b[49m\u001b[43m,\u001b[49m\u001b[43m \u001b[49m\u001b[43mhue_order\u001b[49m\u001b[43m,\u001b[49m\n\u001b[0;32m   2945\u001b[0m \u001b[43m    \u001b[49m\u001b[43mestimator\u001b[49m\u001b[43m,\u001b[49m\u001b[43m \u001b[49m\u001b[43merrorbar\u001b[49m\u001b[43m,\u001b[49m\u001b[43m \u001b[49m\u001b[43mn_boot\u001b[49m\u001b[43m,\u001b[49m\u001b[43m \u001b[49m\u001b[43munits\u001b[49m\u001b[43m,\u001b[49m\u001b[43m \u001b[49m\u001b[43mseed\u001b[49m\u001b[43m,\u001b[49m\n\u001b[0;32m   2946\u001b[0m \u001b[43m    \u001b[49m\u001b[43morient\u001b[49m\u001b[43m,\u001b[49m\u001b[43m \u001b[49m\u001b[43mcolor\u001b[49m\u001b[43m,\u001b[49m\u001b[43m \u001b[49m\u001b[43mpalette\u001b[49m\u001b[43m,\u001b[49m\u001b[43m \u001b[49m\u001b[43msaturation\u001b[49m\u001b[43m,\u001b[49m\n\u001b[0;32m   2947\u001b[0m \u001b[43m    \u001b[49m\u001b[43mwidth\u001b[49m\u001b[43m,\u001b[49m\u001b[43m \u001b[49m\u001b[43merrcolor\u001b[49m\u001b[43m,\u001b[49m\u001b[43m \u001b[49m\u001b[43merrwidth\u001b[49m\u001b[43m,\u001b[49m\u001b[43m \u001b[49m\u001b[43mcapsize\u001b[49m\u001b[43m,\u001b[49m\u001b[43m \u001b[49m\u001b[43mdodge\u001b[49m\n\u001b[0;32m   2948\u001b[0m \u001b[43m\u001b[49m\u001b[43m)\u001b[49m\n\u001b[0;32m   2950\u001b[0m plotter\u001b[38;5;241m.\u001b[39mvalue_label \u001b[38;5;241m=\u001b[39m \u001b[38;5;124m\"\u001b[39m\u001b[38;5;124mcount\u001b[39m\u001b[38;5;124m\"\u001b[39m\n\u001b[0;32m   2952\u001b[0m \u001b[38;5;28;01mif\u001b[39;00m ax \u001b[38;5;129;01mis\u001b[39;00m \u001b[38;5;28;01mNone\u001b[39;00m:\n",
      "File \u001b[1;32mD:\\Miniconda\\envs\\cv_env\\lib\\site-packages\\seaborn\\categorical.py:1530\u001b[0m, in \u001b[0;36m_BarPlotter.__init__\u001b[1;34m(self, x, y, hue, data, order, hue_order, estimator, errorbar, n_boot, units, seed, orient, color, palette, saturation, width, errcolor, errwidth, capsize, dodge)\u001b[0m\n\u001b[0;32m   1525\u001b[0m \u001b[38;5;28;01mdef\u001b[39;00m \u001b[38;5;21m__init__\u001b[39m(\u001b[38;5;28mself\u001b[39m, x, y, hue, data, order, hue_order,\n\u001b[0;32m   1526\u001b[0m              estimator, errorbar, n_boot, units, seed,\n\u001b[0;32m   1527\u001b[0m              orient, color, palette, saturation, width,\n\u001b[0;32m   1528\u001b[0m              errcolor, errwidth, capsize, dodge):\n\u001b[0;32m   1529\u001b[0m     \u001b[38;5;124;03m\"\"\"Initialize the plotter.\"\"\"\u001b[39;00m\n\u001b[1;32m-> 1530\u001b[0m     \u001b[38;5;28;43mself\u001b[39;49m\u001b[38;5;241;43m.\u001b[39;49m\u001b[43mestablish_variables\u001b[49m\u001b[43m(\u001b[49m\u001b[43mx\u001b[49m\u001b[43m,\u001b[49m\u001b[43m \u001b[49m\u001b[43my\u001b[49m\u001b[43m,\u001b[49m\u001b[43m \u001b[49m\u001b[43mhue\u001b[49m\u001b[43m,\u001b[49m\u001b[43m \u001b[49m\u001b[43mdata\u001b[49m\u001b[43m,\u001b[49m\u001b[43m \u001b[49m\u001b[43morient\u001b[49m\u001b[43m,\u001b[49m\n\u001b[0;32m   1531\u001b[0m \u001b[43m                             \u001b[49m\u001b[43morder\u001b[49m\u001b[43m,\u001b[49m\u001b[43m \u001b[49m\u001b[43mhue_order\u001b[49m\u001b[43m,\u001b[49m\u001b[43m \u001b[49m\u001b[43munits\u001b[49m\u001b[43m)\u001b[49m\n\u001b[0;32m   1532\u001b[0m     \u001b[38;5;28mself\u001b[39m\u001b[38;5;241m.\u001b[39mestablish_colors(color, palette, saturation)\n\u001b[0;32m   1533\u001b[0m     \u001b[38;5;28mself\u001b[39m\u001b[38;5;241m.\u001b[39mestimate_statistic(estimator, errorbar, n_boot, seed)\n",
      "File \u001b[1;32mD:\\Miniconda\\envs\\cv_env\\lib\\site-packages\\seaborn\\categorical.py:486\u001b[0m, in \u001b[0;36m_CategoricalPlotter.establish_variables\u001b[1;34m(self, x, y, hue, data, orient, order, hue_order, units)\u001b[0m\n\u001b[0;32m    484\u001b[0m \u001b[38;5;28;01mif\u001b[39;00m \u001b[38;5;28mhasattr\u001b[39m(data, \u001b[38;5;124m\"\u001b[39m\u001b[38;5;124mshape\u001b[39m\u001b[38;5;124m\"\u001b[39m):\n\u001b[0;32m    485\u001b[0m     \u001b[38;5;28;01mif\u001b[39;00m \u001b[38;5;28mlen\u001b[39m(data\u001b[38;5;241m.\u001b[39mshape) \u001b[38;5;241m==\u001b[39m \u001b[38;5;241m1\u001b[39m:\n\u001b[1;32m--> 486\u001b[0m         \u001b[38;5;28;01mif\u001b[39;00m np\u001b[38;5;241m.\u001b[39misscalar(\u001b[43mdata\u001b[49m\u001b[43m[\u001b[49m\u001b[38;5;241;43m0\u001b[39;49m\u001b[43m]\u001b[49m):\n\u001b[0;32m    487\u001b[0m             plot_data \u001b[38;5;241m=\u001b[39m [data]\n\u001b[0;32m    488\u001b[0m         \u001b[38;5;28;01melse\u001b[39;00m:\n",
      "File \u001b[1;32mD:\\Miniconda\\envs\\cv_env\\lib\\site-packages\\pandas\\core\\series.py:981\u001b[0m, in \u001b[0;36mSeries.__getitem__\u001b[1;34m(self, key)\u001b[0m\n\u001b[0;32m    978\u001b[0m     \u001b[38;5;28;01mreturn\u001b[39;00m \u001b[38;5;28mself\u001b[39m\u001b[38;5;241m.\u001b[39m_values[key]\n\u001b[0;32m    980\u001b[0m \u001b[38;5;28;01melif\u001b[39;00m key_is_scalar:\n\u001b[1;32m--> 981\u001b[0m     \u001b[38;5;28;01mreturn\u001b[39;00m \u001b[38;5;28;43mself\u001b[39;49m\u001b[38;5;241;43m.\u001b[39;49m\u001b[43m_get_value\u001b[49m\u001b[43m(\u001b[49m\u001b[43mkey\u001b[49m\u001b[43m)\u001b[49m\n\u001b[0;32m    983\u001b[0m \u001b[38;5;28;01mif\u001b[39;00m is_hashable(key):\n\u001b[0;32m    984\u001b[0m     \u001b[38;5;66;03m# Otherwise index.get_value will raise InvalidIndexError\u001b[39;00m\n\u001b[0;32m    985\u001b[0m     \u001b[38;5;28;01mtry\u001b[39;00m:\n\u001b[0;32m    986\u001b[0m         \u001b[38;5;66;03m# For labels that don't resolve as scalars like tuples and frozensets\u001b[39;00m\n",
      "File \u001b[1;32mD:\\Miniconda\\envs\\cv_env\\lib\\site-packages\\pandas\\core\\series.py:1089\u001b[0m, in \u001b[0;36mSeries._get_value\u001b[1;34m(self, label, takeable)\u001b[0m\n\u001b[0;32m   1086\u001b[0m     \u001b[38;5;28;01mreturn\u001b[39;00m \u001b[38;5;28mself\u001b[39m\u001b[38;5;241m.\u001b[39m_values[label]\n\u001b[0;32m   1088\u001b[0m \u001b[38;5;66;03m# Similar to Index.get_value, but we do not fall back to positional\u001b[39;00m\n\u001b[1;32m-> 1089\u001b[0m loc \u001b[38;5;241m=\u001b[39m \u001b[38;5;28;43mself\u001b[39;49m\u001b[38;5;241;43m.\u001b[39;49m\u001b[43mindex\u001b[49m\u001b[38;5;241;43m.\u001b[39;49m\u001b[43mget_loc\u001b[49m\u001b[43m(\u001b[49m\u001b[43mlabel\u001b[49m\u001b[43m)\u001b[49m\n\u001b[0;32m   1090\u001b[0m \u001b[38;5;28;01mreturn\u001b[39;00m \u001b[38;5;28mself\u001b[39m\u001b[38;5;241m.\u001b[39mindex\u001b[38;5;241m.\u001b[39m_get_values_for_loc(\u001b[38;5;28mself\u001b[39m, loc, label)\n",
      "File \u001b[1;32mD:\\Miniconda\\envs\\cv_env\\lib\\site-packages\\pandas\\core\\indexes\\range.py:393\u001b[0m, in \u001b[0;36mRangeIndex.get_loc\u001b[1;34m(self, key, method, tolerance)\u001b[0m\n\u001b[0;32m    391\u001b[0m         \u001b[38;5;28;01mreturn\u001b[39;00m \u001b[38;5;28mself\u001b[39m\u001b[38;5;241m.\u001b[39m_range\u001b[38;5;241m.\u001b[39mindex(new_key)\n\u001b[0;32m    392\u001b[0m     \u001b[38;5;28;01mexcept\u001b[39;00m \u001b[38;5;167;01mValueError\u001b[39;00m \u001b[38;5;28;01mas\u001b[39;00m err:\n\u001b[1;32m--> 393\u001b[0m         \u001b[38;5;28;01mraise\u001b[39;00m \u001b[38;5;167;01mKeyError\u001b[39;00m(key) \u001b[38;5;28;01mfrom\u001b[39;00m \u001b[38;5;21;01merr\u001b[39;00m\n\u001b[0;32m    394\u001b[0m \u001b[38;5;28mself\u001b[39m\u001b[38;5;241m.\u001b[39m_check_indexing_error(key)\n\u001b[0;32m    395\u001b[0m \u001b[38;5;28;01mraise\u001b[39;00m \u001b[38;5;167;01mKeyError\u001b[39;00m(key)\n",
      "\u001b[1;31mKeyError\u001b[0m: 0"
     ]
    },
    {
     "data": {
      "text/plain": [
       "<Figure size 1500x500 with 0 Axes>"
      ]
     },
     "metadata": {},
     "output_type": "display_data"
    }
   ],
   "source": [
    "plt.figure(figsize = (15,5))\n",
    "sns.countplot(df['Label'])\n",
    "plt.show()"
   ]
  },
  {
   "cell_type": "markdown",
   "id": "1d8f23b0",
   "metadata": {},
   "source": [
    "# Doing SMOTE to overcome imbalanced dataset  "
   ]
  },
  {
   "cell_type": "code",
   "execution_count": 49,
   "id": "66810667",
   "metadata": {},
   "outputs": [
    {
     "data": {
      "text/html": [
       "<div>\n",
       "<style scoped>\n",
       "    .dataframe tbody tr th:only-of-type {\n",
       "        vertical-align: middle;\n",
       "    }\n",
       "\n",
       "    .dataframe tbody tr th {\n",
       "        vertical-align: top;\n",
       "    }\n",
       "\n",
       "    .dataframe thead th {\n",
       "        text-align: right;\n",
       "    }\n",
       "</style>\n",
       "<table border=\"1\" class=\"dataframe\">\n",
       "  <thead>\n",
       "    <tr style=\"text-align: right;\">\n",
       "      <th></th>\n",
       "      <th>Suhu(*C)</th>\n",
       "      <th>Kelembaban_Udara(%)</th>\n",
       "      <th>Intensitas_Cahaya(Lux)</th>\n",
       "    </tr>\n",
       "  </thead>\n",
       "  <tbody>\n",
       "    <tr>\n",
       "      <th>0</th>\n",
       "      <td>23.91</td>\n",
       "      <td>82.17</td>\n",
       "      <td>158.699385</td>\n",
       "    </tr>\n",
       "    <tr>\n",
       "      <th>1</th>\n",
       "      <td>24.2</td>\n",
       "      <td>81.62</td>\n",
       "      <td>128.27051</td>\n",
       "    </tr>\n",
       "    <tr>\n",
       "      <th>2</th>\n",
       "      <td>25.0</td>\n",
       "      <td>80.54</td>\n",
       "      <td>95.87</td>\n",
       "    </tr>\n",
       "    <tr>\n",
       "      <th>3</th>\n",
       "      <td>25.8</td>\n",
       "      <td>79.99</td>\n",
       "      <td>129.27051</td>\n",
       "    </tr>\n",
       "    <tr>\n",
       "      <th>4</th>\n",
       "      <td>26.3</td>\n",
       "      <td>77.02</td>\n",
       "      <td>178.511805</td>\n",
       "    </tr>\n",
       "    <tr>\n",
       "      <th>...</th>\n",
       "      <td>...</td>\n",
       "      <td>...</td>\n",
       "      <td>...</td>\n",
       "    </tr>\n",
       "    <tr>\n",
       "      <th>411</th>\n",
       "      <td>29.324219</td>\n",
       "      <td>65.173475</td>\n",
       "      <td>90.319286</td>\n",
       "    </tr>\n",
       "    <tr>\n",
       "      <th>412</th>\n",
       "      <td>29.416005</td>\n",
       "      <td>67.024796</td>\n",
       "      <td>90.697479</td>\n",
       "    </tr>\n",
       "    <tr>\n",
       "      <th>413</th>\n",
       "      <td>27.203043</td>\n",
       "      <td>68.332519</td>\n",
       "      <td>158.386499</td>\n",
       "    </tr>\n",
       "    <tr>\n",
       "      <th>414</th>\n",
       "      <td>26.873668</td>\n",
       "      <td>68.906479</td>\n",
       "      <td>163.061551</td>\n",
       "    </tr>\n",
       "    <tr>\n",
       "      <th>415</th>\n",
       "      <td>29.277335</td>\n",
       "      <td>66.655511</td>\n",
       "      <td>90.677884</td>\n",
       "    </tr>\n",
       "  </tbody>\n",
       "</table>\n",
       "<p>416 rows × 3 columns</p>\n",
       "</div>"
      ],
      "text/plain": [
       "      Suhu(*C) Kelembaban_Udara(%) Intensitas_Cahaya(Lux)\n",
       "0        23.91               82.17             158.699385\n",
       "1         24.2               81.62              128.27051\n",
       "2         25.0               80.54                  95.87\n",
       "3         25.8               79.99              129.27051\n",
       "4         26.3               77.02             178.511805\n",
       "..         ...                 ...                    ...\n",
       "411  29.324219           65.173475              90.319286\n",
       "412  29.416005           67.024796              90.697479\n",
       "413  27.203043           68.332519             158.386499\n",
       "414  26.873668           68.906479             163.061551\n",
       "415  29.277335           66.655511              90.677884\n",
       "\n",
       "[416 rows x 3 columns]"
      ]
     },
     "execution_count": 49,
     "metadata": {},
     "output_type": "execute_result"
    }
   ],
   "source": [
    "#Importing SMOTE\n",
    "from imblearn.over_sampling import SMOTE\n",
    "#Oversampling the data\n",
    "label = df['Label'].astype('int')\n",
    "smote = SMOTE(random_state = 101, k_neighbors = 1)\n",
    "X, y = smote.fit_resample(df[['Suhu(*C)', 'Kelembaban_Udara(%)', 'Intensitas_Cahaya(Lux)']], label)\n",
    "#Creating a new Oversampling Data Frame\n",
    "df_oversampler = pd.DataFrame(X, columns = ['Suhu(*C)', 'Kelembaban_Udara(%)', 'Intensitas_Cahaya(Lux)'])\n",
    "df_oversampler"
   ]
  },
  {
   "cell_type": "code",
   "execution_count": 15,
   "id": "3800a217",
   "metadata": {},
   "outputs": [],
   "source": [
    "df_oversampler['label'] = y"
   ]
  },
  {
   "cell_type": "code",
   "execution_count": 16,
   "id": "77c03a92",
   "metadata": {
    "scrolled": false
   },
   "outputs": [
    {
     "name": "stderr",
     "output_type": "stream",
     "text": [
      "C:\\Users\\lenovo\\miniconda3\\lib\\site-packages\\seaborn\\_decorators.py:36: FutureWarning: Pass the following variable as a keyword arg: x. From version 0.12, the only valid positional argument will be `data`, and passing other arguments without an explicit keyword will result in an error or misinterpretation.\n",
      "  warnings.warn(\n"
     ]
    },
    {
     "data": {
      "text/plain": [
       "<AxesSubplot:xlabel='label', ylabel='count'>"
      ]
     },
     "execution_count": 16,
     "metadata": {},
     "output_type": "execute_result"
    },
    {
     "data": {
      "image/png": "[encoded data removed]",
      "text/plain": [
       "<Figure size 1080x360 with 1 Axes>"
      ]
     },
     "metadata": {
      "needs_background": "light"
     },
     "output_type": "display_data"
    }
   ],
   "source": [
    "plt.figure(figsize = (15,5))\n",
    "sns.countplot(df_oversampler['label'])"
   ]
  },
  {
   "cell_type": "code",
   "execution_count": 17,
   "id": "084d87a4",
   "metadata": {
    "scrolled": true
   },
   "outputs": [
    {
     "name": "stderr",
     "output_type": "stream",
     "text": [
      "C:\\Users\\lenovo\\AppData\\Local\\Temp\\ipykernel_7756\\3023233582.py:1: SettingWithCopyWarning: \n",
      "A value is trying to be set on a copy of a slice from a DataFrame.\n",
      "Try using .loc[row_indexer,col_indexer] = value instead\n",
      "\n",
      "See the caveats in the documentation: https://pandas.pydata.org/pandas-docs/stable/user_guide/indexing.html#returning-a-view-versus-a-copy\n",
      "  df[\"Tanggal\"] = pd.to_datetime(df[\"Tanggal\"],format='%m/%d/%Y')\n"
     ]
    }
   ],
   "source": [
    "df[\"Tanggal\"] = pd.to_datetime(df[\"Tanggal\"],format='%m/%d/%Y')"
   ]
  },
  {
   "cell_type": "code",
   "execution_count": 18,
   "id": "c5101516",
   "metadata": {},
   "outputs": [
    {
     "name": "stdout",
     "output_type": "stream",
     "text": [
      "<class 'pandas.core.frame.DataFrame'>\n",
      "RangeIndex: 119 entries, 6 to 124\n",
      "Data columns (total 7 columns):\n",
      " #   Column                  Non-Null Count  Dtype         \n",
      "---  ------                  --------------  -----         \n",
      " 0   Tanggal                 119 non-null    datetime64[ns]\n",
      " 1   Waktu                   119 non-null    object        \n",
      " 2   Suhu(*C)                119 non-null    object        \n",
      " 3   Kelembaban_Udara(%)     119 non-null    object        \n",
      " 4   Intensitas_Cahaya(Lux)  119 non-null    object        \n",
      " 5   Label                   119 non-null    object        \n",
      " 6   Keterangan              119 non-null    object        \n",
      "dtypes: datetime64[ns](1), object(6)\n",
      "memory usage: 6.6+ KB\n"
     ]
    }
   ],
   "source": [
    "df.info()"
   ]
  },
  {
   "cell_type": "code",
   "execution_count": 19,
   "id": "58bc4673",
   "metadata": {},
   "outputs": [],
   "source": [
    "import matplotlib.dates as mpl_dates"
   ]
  },
  {
   "cell_type": "code",
   "execution_count": 20,
   "id": "f3f9251e",
   "metadata": {},
   "outputs": [
    {
     "data": {
      "text/plain": [
       "413"
      ]
     },
     "execution_count": 20,
     "metadata": {},
     "output_type": "execute_result"
    }
   ],
   "source": [
    "len(df_oversampler['Suhu(*C)'])"
   ]
  },
  {
   "cell_type": "code",
   "execution_count": 21,
   "id": "01cb6142",
   "metadata": {},
   "outputs": [],
   "source": [
    "x = np.arange(len(df_oversampler[\"Suhu(*C)\"]))"
   ]
  },
  {
   "cell_type": "code",
   "execution_count": 22,
   "id": "ff3361bd",
   "metadata": {},
   "outputs": [
    {
     "data": {
      "text/plain": [
       "array([  0,   1,   2,   3,   4,   5,   6,   7,   8,   9,  10,  11,  12,\n",
       "        13,  14,  15,  16,  17,  18,  19,  20,  21,  22,  23,  24,  25,\n",
       "        26,  27,  28,  29,  30,  31,  32,  33,  34,  35,  36,  37,  38,\n",
       "        39,  40,  41,  42,  43,  44,  45,  46,  47,  48,  49,  50,  51,\n",
       "        52,  53,  54,  55,  56,  57,  58,  59,  60,  61,  62,  63,  64,\n",
       "        65,  66,  67,  68,  69,  70,  71,  72,  73,  74,  75,  76,  77,\n",
       "        78,  79,  80,  81,  82,  83,  84,  85,  86,  87,  88,  89,  90,\n",
       "        91,  92,  93,  94,  95,  96,  97,  98,  99, 100, 101, 102, 103,\n",
       "       104, 105, 106, 107, 108, 109, 110, 111, 112, 113, 114, 115, 116,\n",
       "       117, 118, 119, 120, 121, 122, 123, 124, 125, 126, 127, 128, 129,\n",
       "       130, 131, 132, 133, 134, 135, 136, 137, 138, 139, 140, 141, 142,\n",
       "       143, 144, 145, 146, 147, 148, 149, 150, 151, 152, 153, 154, 155,\n",
       "       156, 157, 158, 159, 160, 161, 162, 163, 164, 165, 166, 167, 168,\n",
       "       169, 170, 171, 172, 173, 174, 175, 176, 177, 178, 179, 180, 181,\n",
       "       182, 183, 184, 185, 186, 187, 188, 189, 190, 191, 192, 193, 194,\n",
       "       195, 196, 197, 198, 199, 200, 201, 202, 203, 204, 205, 206, 207,\n",
       "       208, 209, 210, 211, 212, 213, 214, 215, 216, 217, 218, 219, 220,\n",
       "       221, 222, 223, 224, 225, 226, 227, 228, 229, 230, 231, 232, 233,\n",
       "       234, 235, 236, 237, 238, 239, 240, 241, 242, 243, 244, 245, 246,\n",
       "       247, 248, 249, 250, 251, 252, 253, 254, 255, 256, 257, 258, 259,\n",
       "       260, 261, 262, 263, 264, 265, 266, 267, 268, 269, 270, 271, 272,\n",
       "       273, 274, 275, 276, 277, 278, 279, 280, 281, 282, 283, 284, 285,\n",
       "       286, 287, 288, 289, 290, 291, 292, 293, 294, 295, 296, 297, 298,\n",
       "       299, 300, 301, 302, 303, 304, 305, 306, 307, 308, 309, 310, 311,\n",
       "       312, 313, 314, 315, 316, 317, 318, 319, 320, 321, 322, 323, 324,\n",
       "       325, 326, 327, 328, 329, 330, 331, 332, 333, 334, 335, 336, 337,\n",
       "       338, 339, 340, 341, 342, 343, 344, 345, 346, 347, 348, 349, 350,\n",
       "       351, 352, 353, 354, 355, 356, 357, 358, 359, 360, 361, 362, 363,\n",
       "       364, 365, 366, 367, 368, 369, 370, 371, 372, 373, 374, 375, 376,\n",
       "       377, 378, 379, 380, 381, 382, 383, 384, 385, 386, 387, 388, 389,\n",
       "       390, 391, 392, 393, 394, 395, 396, 397, 398, 399, 400, 401, 402,\n",
       "       403, 404, 405, 406, 407, 408, 409, 410, 411, 412])"
      ]
     },
     "execution_count": 22,
     "metadata": {},
     "output_type": "execute_result"
    }
   ],
   "source": [
    "x"
   ]
  },
  {
   "cell_type": "code",
   "execution_count": 23,
   "id": "d144423c",
   "metadata": {},
   "outputs": [
    {
     "data": {
      "image/png": "[encoded data removed]",
      "text/plain": [
       "<Figure size 576x360 with 1 Axes>"
      ]
     },
     "metadata": {
      "needs_background": "light"
     },
     "output_type": "display_data"
    }
   ],
   "source": [
    "plt.figure(figsize=[8,5])\n",
    "plt.plot(x, df_oversampler['Suhu(*C)'], linestyle = 'solid')\n",
    "plt.tight_layout()\n",
    "plt.show()"
   ]
  },
  {
   "cell_type": "code",
   "execution_count": 24,
   "id": "2ae2e016",
   "metadata": {},
   "outputs": [
    {
     "data": {
      "image/png": "[encoded data removed]",
      "text/plain": [
       "<Figure size 576x360 with 1 Axes>"
      ]
     },
     "metadata": {
      "needs_background": "light"
     },
     "output_type": "display_data"
    }
   ],
   "source": [
    "plt.figure(figsize=[8,5])\n",
    "plt.plot(x, df_oversampler['Kelembaban_Udara(%)'], linestyle = 'solid')\n",
    "plt.tight_layout()\n",
    "plt.show()"
   ]
  },
  {
   "cell_type": "code",
   "execution_count": 25,
   "id": "78ee9270",
   "metadata": {},
   "outputs": [
    {
     "data": {
      "image/png": "[encoded data removed]",
      "text/plain": [
       "<Figure size 576x360 with 1 Axes>"
      ]
     },
     "metadata": {
      "needs_background": "light"
     },
     "output_type": "display_data"
    }
   ],
   "source": [
    "plt.figure(figsize=[8,5])\n",
    "plt.plot(x, df_oversampler['Intensitas_Cahaya(Lux)'], linestyle = 'solid')\n",
    "plt.tight_layout()\n",
    "plt.show()"
   ]
  },
  {
   "cell_type": "code",
   "execution_count": 26,
   "id": "f393d548",
   "metadata": {},
   "outputs": [
    {
     "data": {
      "text/html": [
       "<div>\n",
       "<style scoped>\n",
       "    .dataframe tbody tr th:only-of-type {\n",
       "        vertical-align: middle;\n",
       "    }\n",
       "\n",
       "    .dataframe tbody tr th {\n",
       "        vertical-align: top;\n",
       "    }\n",
       "\n",
       "    .dataframe thead th {\n",
       "        text-align: right;\n",
       "    }\n",
       "</style>\n",
       "<table border=\"1\" class=\"dataframe\">\n",
       "  <thead>\n",
       "    <tr style=\"text-align: right;\">\n",
       "      <th></th>\n",
       "      <th>Suhu(*C)</th>\n",
       "      <th>Kelembaban_Udara(%)</th>\n",
       "      <th>Intensitas_Cahaya(Lux)</th>\n",
       "    </tr>\n",
       "  </thead>\n",
       "  <tbody>\n",
       "    <tr>\n",
       "      <th>0</th>\n",
       "      <td>23.91</td>\n",
       "      <td>82.17</td>\n",
       "      <td>170.463898</td>\n",
       "    </tr>\n",
       "    <tr>\n",
       "      <th>1</th>\n",
       "      <td>24.2</td>\n",
       "      <td>81.62</td>\n",
       "      <td>128.27051</td>\n",
       "    </tr>\n",
       "    <tr>\n",
       "      <th>2</th>\n",
       "      <td>25.0</td>\n",
       "      <td>80.54</td>\n",
       "      <td>127.435852</td>\n",
       "    </tr>\n",
       "    <tr>\n",
       "      <th>3</th>\n",
       "      <td>25.8</td>\n",
       "      <td>79.99</td>\n",
       "      <td>129.27051</td>\n",
       "    </tr>\n",
       "    <tr>\n",
       "      <th>4</th>\n",
       "      <td>26.3</td>\n",
       "      <td>77.02</td>\n",
       "      <td>104.724183</td>\n",
       "    </tr>\n",
       "    <tr>\n",
       "      <th>...</th>\n",
       "      <td>...</td>\n",
       "      <td>...</td>\n",
       "      <td>...</td>\n",
       "    </tr>\n",
       "    <tr>\n",
       "      <th>408</th>\n",
       "      <td>29.62854</td>\n",
       "      <td>67.590787</td>\n",
       "      <td>90.727511</td>\n",
       "    </tr>\n",
       "    <tr>\n",
       "      <th>409</th>\n",
       "      <td>29.493349</td>\n",
       "      <td>64.37497</td>\n",
       "      <td>136.777448</td>\n",
       "    </tr>\n",
       "    <tr>\n",
       "      <th>410</th>\n",
       "      <td>28.315541</td>\n",
       "      <td>69.373642</td>\n",
       "      <td>110.029347</td>\n",
       "    </tr>\n",
       "    <tr>\n",
       "      <th>411</th>\n",
       "      <td>29.470484</td>\n",
       "      <td>67.169875</td>\n",
       "      <td>90.705177</td>\n",
       "    </tr>\n",
       "    <tr>\n",
       "      <th>412</th>\n",
       "      <td>29.941237</td>\n",
       "      <td>68.423512</td>\n",
       "      <td>90.771697</td>\n",
       "    </tr>\n",
       "  </tbody>\n",
       "</table>\n",
       "<p>413 rows × 3 columns</p>\n",
       "</div>"
      ],
      "text/plain": [
       "      Suhu(*C) Kelembaban_Udara(%) Intensitas_Cahaya(Lux)\n",
       "0        23.91               82.17             170.463898\n",
       "1         24.2               81.62              128.27051\n",
       "2         25.0               80.54             127.435852\n",
       "3         25.8               79.99              129.27051\n",
       "4         26.3               77.02             104.724183\n",
       "..         ...                 ...                    ...\n",
       "408   29.62854           67.590787              90.727511\n",
       "409  29.493349            64.37497             136.777448\n",
       "410  28.315541           69.373642             110.029347\n",
       "411  29.470484           67.169875              90.705177\n",
       "412  29.941237           68.423512              90.771697\n",
       "\n",
       "[413 rows x 3 columns]"
      ]
     },
     "execution_count": 26,
     "metadata": {},
     "output_type": "execute_result"
    }
   ],
   "source": [
    "features = df_oversampler.iloc[:,:3]\n",
    "features"
   ]
  },
  {
   "cell_type": "code",
   "execution_count": 27,
   "id": "79451de4",
   "metadata": {},
   "outputs": [
    {
     "data": {
      "text/html": [
       "<div>\n",
       "<style scoped>\n",
       "    .dataframe tbody tr th:only-of-type {\n",
       "        vertical-align: middle;\n",
       "    }\n",
       "\n",
       "    .dataframe tbody tr th {\n",
       "        vertical-align: top;\n",
       "    }\n",
       "\n",
       "    .dataframe thead th {\n",
       "        text-align: right;\n",
       "    }\n",
       "</style>\n",
       "<table border=\"1\" class=\"dataframe\">\n",
       "  <thead>\n",
       "    <tr style=\"text-align: right;\">\n",
       "      <th></th>\n",
       "      <th>Suhu(*C)</th>\n",
       "      <th>Kelembaban_Udara(%)</th>\n",
       "      <th>Intensitas_Cahaya(Lux)</th>\n",
       "    </tr>\n",
       "  </thead>\n",
       "  <tbody>\n",
       "    <tr>\n",
       "      <th>0</th>\n",
       "      <td>-2.099042</td>\n",
       "      <td>2.325050</td>\n",
       "      <td>2.226081</td>\n",
       "    </tr>\n",
       "    <tr>\n",
       "      <th>1</th>\n",
       "      <td>-1.931256</td>\n",
       "      <td>2.211636</td>\n",
       "      <td>0.201354</td>\n",
       "    </tr>\n",
       "    <tr>\n",
       "      <th>2</th>\n",
       "      <td>-1.468395</td>\n",
       "      <td>1.988932</td>\n",
       "      <td>0.161301</td>\n",
       "    </tr>\n",
       "    <tr>\n",
       "      <th>3</th>\n",
       "      <td>-1.005535</td>\n",
       "      <td>1.875517</td>\n",
       "      <td>0.249341</td>\n",
       "    </tr>\n",
       "    <tr>\n",
       "      <th>4</th>\n",
       "      <td>-0.716247</td>\n",
       "      <td>1.263081</td>\n",
       "      <td>-0.928560</td>\n",
       "    </tr>\n",
       "    <tr>\n",
       "      <th>...</th>\n",
       "      <td>...</td>\n",
       "      <td>...</td>\n",
       "      <td>...</td>\n",
       "    </tr>\n",
       "    <tr>\n",
       "      <th>408</th>\n",
       "      <td>1.209565</td>\n",
       "      <td>-0.681294</td>\n",
       "      <td>-1.600216</td>\n",
       "    </tr>\n",
       "    <tr>\n",
       "      <th>409</th>\n",
       "      <td>1.131347</td>\n",
       "      <td>-1.344420</td>\n",
       "      <td>0.609575</td>\n",
       "    </tr>\n",
       "    <tr>\n",
       "      <th>410</th>\n",
       "      <td>0.449896</td>\n",
       "      <td>-0.313656</td>\n",
       "      <td>-0.673982</td>\n",
       "    </tr>\n",
       "    <tr>\n",
       "      <th>411</th>\n",
       "      <td>1.118117</td>\n",
       "      <td>-0.768089</td>\n",
       "      <td>-1.601288</td>\n",
       "    </tr>\n",
       "    <tr>\n",
       "      <th>412</th>\n",
       "      <td>1.390484</td>\n",
       "      <td>-0.509580</td>\n",
       "      <td>-1.598096</td>\n",
       "    </tr>\n",
       "  </tbody>\n",
       "</table>\n",
       "<p>413 rows × 3 columns</p>\n",
       "</div>"
      ],
      "text/plain": [
       "     Suhu(*C)  Kelembaban_Udara(%)  Intensitas_Cahaya(Lux)\n",
       "0   -2.099042             2.325050                2.226081\n",
       "1   -1.931256             2.211636                0.201354\n",
       "2   -1.468395             1.988932                0.161301\n",
       "3   -1.005535             1.875517                0.249341\n",
       "4   -0.716247             1.263081               -0.928560\n",
       "..        ...                  ...                     ...\n",
       "408  1.209565            -0.681294               -1.600216\n",
       "409  1.131347            -1.344420                0.609575\n",
       "410  0.449896            -0.313656               -0.673982\n",
       "411  1.118117            -0.768089               -1.601288\n",
       "412  1.390484            -0.509580               -1.598096\n",
       "\n",
       "[413 rows x 3 columns]"
      ]
     },
     "execution_count": 27,
     "metadata": {},
     "output_type": "execute_result"
    }
   ],
   "source": [
    "from sklearn.preprocessing import StandardScaler\n",
    "\n",
    "features_std= StandardScaler().fit_transform(features)\n",
    "features_std= pd.DataFrame(features_std)\n",
    "features_std.columns = features.columns.tolist()\n",
    "features_std"
   ]
  },
  {
   "cell_type": "code",
   "execution_count": 28,
   "id": "6890cdca",
   "metadata": {},
   "outputs": [
    {
     "data": {
      "text/html": [
       "<div>\n",
       "<style scoped>\n",
       "    .dataframe tbody tr th:only-of-type {\n",
       "        vertical-align: middle;\n",
       "    }\n",
       "\n",
       "    .dataframe tbody tr th {\n",
       "        vertical-align: top;\n",
       "    }\n",
       "\n",
       "    .dataframe thead th {\n",
       "        text-align: right;\n",
       "    }\n",
       "</style>\n",
       "<table border=\"1\" class=\"dataframe\">\n",
       "  <thead>\n",
       "    <tr style=\"text-align: right;\">\n",
       "      <th></th>\n",
       "      <th>Suhu(*C)</th>\n",
       "      <th>Kelembaban_Udara(%)</th>\n",
       "      <th>Intensitas_Cahaya(Lux)</th>\n",
       "    </tr>\n",
       "  </thead>\n",
       "  <tbody>\n",
       "    <tr>\n",
       "      <th>Suhu(*C)</th>\n",
       "      <td>1.000000</td>\n",
       "      <td>-0.309688</td>\n",
       "      <td>-0.488775</td>\n",
       "    </tr>\n",
       "    <tr>\n",
       "      <th>Kelembaban_Udara(%)</th>\n",
       "      <td>-0.309688</td>\n",
       "      <td>1.000000</td>\n",
       "      <td>0.058902</td>\n",
       "    </tr>\n",
       "    <tr>\n",
       "      <th>Intensitas_Cahaya(Lux)</th>\n",
       "      <td>-0.488775</td>\n",
       "      <td>0.058902</td>\n",
       "      <td>1.000000</td>\n",
       "    </tr>\n",
       "  </tbody>\n",
       "</table>\n",
       "</div>"
      ],
      "text/plain": [
       "                        Suhu(*C)  Kelembaban_Udara(%)  Intensitas_Cahaya(Lux)\n",
       "Suhu(*C)                1.000000            -0.309688               -0.488775\n",
       "Kelembaban_Udara(%)    -0.309688             1.000000                0.058902\n",
       "Intensitas_Cahaya(Lux) -0.488775             0.058902                1.000000"
      ]
     },
     "execution_count": 28,
     "metadata": {},
     "output_type": "execute_result"
    }
   ],
   "source": [
    "corr1 = features_std.corr()\n",
    "corr1"
   ]
  },
  {
   "cell_type": "code",
   "execution_count": 29,
   "id": "65812675",
   "metadata": {},
   "outputs": [
    {
     "data": {
      "text/plain": [
       "<AxesSubplot:>"
      ]
     },
     "execution_count": 29,
     "metadata": {},
     "output_type": "execute_result"
    },
    {
     "data": {
      "image/png": "[encoded data removed]",
      "text/plain": [
       "<Figure size 1080x1080 with 2 Axes>"
      ]
     },
     "metadata": {
      "needs_background": "light"
     },
     "output_type": "display_data"
    }
   ],
   "source": [
    "corr1 = features_std.corr()\n",
    "fig, ax = plt.subplots(figsize=(15, 15))\n",
    "sns.heatmap(corr1,annot=True,cmap=plt.cm.Reds,ax=ax)"
   ]
  },
  {
   "cell_type": "markdown",
   "id": "fc44f0cd",
   "metadata": {},
   "source": [
    "# Prepare Data"
   ]
  },
  {
   "cell_type": "code",
   "execution_count": 30,
   "id": "8ddd2f9a",
   "metadata": {},
   "outputs": [],
   "source": [
    "y = df_oversampler.iloc[:,-1]"
   ]
  },
  {
   "cell_type": "code",
   "execution_count": 31,
   "id": "06d30142",
   "metadata": {},
   "outputs": [
    {
     "name": "stdout",
     "output_type": "stream",
     "text": [
      "(330, 3)\n",
      "(330,)\n",
      "(83, 3)\n",
      "(83,)\n"
     ]
    }
   ],
   "source": [
    "from sklearn.model_selection import train_test_split\n",
    "\n",
    "x = df_oversampler.iloc[:,:-1]\n",
    "y = df_oversampler.iloc[:,-1]\n",
    "#y=y.astype('int')\n",
    "\n",
    "x_train, x_test, y_train, y_test = train_test_split(x, y, test_size = 0.2, random_state = 12)\n",
    "print(x_train.shape)\n",
    "print(y_train.shape)\n",
    "print(x_test.shape)\n",
    "print(y_test.shape)"
   ]
  },
  {
   "cell_type": "code",
   "execution_count": 50,
   "id": "1b6d9da4",
   "metadata": {},
   "outputs": [
    {
     "data": {
      "text/html": [
       "<div>\n",
       "<style scoped>\n",
       "    .dataframe tbody tr th:only-of-type {\n",
       "        vertical-align: middle;\n",
       "    }\n",
       "\n",
       "    .dataframe tbody tr th {\n",
       "        vertical-align: top;\n",
       "    }\n",
       "\n",
       "    .dataframe thead th {\n",
       "        text-align: right;\n",
       "    }\n",
       "</style>\n",
       "<table border=\"1\" class=\"dataframe\">\n",
       "  <thead>\n",
       "    <tr style=\"text-align: right;\">\n",
       "      <th></th>\n",
       "      <th>Suhu(*C)</th>\n",
       "      <th>Kelembaban_Udara(%)</th>\n",
       "      <th>Intensitas_Cahaya(Lux)</th>\n",
       "    </tr>\n",
       "  </thead>\n",
       "  <tbody>\n",
       "    <tr>\n",
       "      <th>0</th>\n",
       "      <td>23.91</td>\n",
       "      <td>82.17</td>\n",
       "      <td>170.463898</td>\n",
       "    </tr>\n",
       "    <tr>\n",
       "      <th>1</th>\n",
       "      <td>24.2</td>\n",
       "      <td>81.62</td>\n",
       "      <td>128.27051</td>\n",
       "    </tr>\n",
       "    <tr>\n",
       "      <th>2</th>\n",
       "      <td>25.0</td>\n",
       "      <td>80.54</td>\n",
       "      <td>127.435852</td>\n",
       "    </tr>\n",
       "    <tr>\n",
       "      <th>3</th>\n",
       "      <td>25.8</td>\n",
       "      <td>79.99</td>\n",
       "      <td>129.27051</td>\n",
       "    </tr>\n",
       "    <tr>\n",
       "      <th>4</th>\n",
       "      <td>26.3</td>\n",
       "      <td>77.02</td>\n",
       "      <td>104.724183</td>\n",
       "    </tr>\n",
       "    <tr>\n",
       "      <th>...</th>\n",
       "      <td>...</td>\n",
       "      <td>...</td>\n",
       "      <td>...</td>\n",
       "    </tr>\n",
       "    <tr>\n",
       "      <th>408</th>\n",
       "      <td>29.62854</td>\n",
       "      <td>67.590787</td>\n",
       "      <td>90.727511</td>\n",
       "    </tr>\n",
       "    <tr>\n",
       "      <th>409</th>\n",
       "      <td>29.493349</td>\n",
       "      <td>64.37497</td>\n",
       "      <td>136.777448</td>\n",
       "    </tr>\n",
       "    <tr>\n",
       "      <th>410</th>\n",
       "      <td>28.315541</td>\n",
       "      <td>69.373642</td>\n",
       "      <td>110.029347</td>\n",
       "    </tr>\n",
       "    <tr>\n",
       "      <th>411</th>\n",
       "      <td>29.470484</td>\n",
       "      <td>67.169875</td>\n",
       "      <td>90.705177</td>\n",
       "    </tr>\n",
       "    <tr>\n",
       "      <th>412</th>\n",
       "      <td>29.941237</td>\n",
       "      <td>68.423512</td>\n",
       "      <td>90.771697</td>\n",
       "    </tr>\n",
       "  </tbody>\n",
       "</table>\n",
       "<p>413 rows × 3 columns</p>\n",
       "</div>"
      ],
      "text/plain": [
       "      Suhu(*C) Kelembaban_Udara(%) Intensitas_Cahaya(Lux)\n",
       "0        23.91               82.17             170.463898\n",
       "1         24.2               81.62              128.27051\n",
       "2         25.0               80.54             127.435852\n",
       "3         25.8               79.99              129.27051\n",
       "4         26.3               77.02             104.724183\n",
       "..         ...                 ...                    ...\n",
       "408   29.62854           67.590787              90.727511\n",
       "409  29.493349            64.37497             136.777448\n",
       "410  28.315541           69.373642             110.029347\n",
       "411  29.470484           67.169875              90.705177\n",
       "412  29.941237           68.423512              90.771697\n",
       "\n",
       "[413 rows x 3 columns]"
      ]
     },
     "execution_count": 50,
     "metadata": {},
     "output_type": "execute_result"
    }
   ],
   "source": [
    "x"
   ]
  },
  {
   "cell_type": "markdown",
   "id": "a0956012",
   "metadata": {},
   "source": [
    "# Classification Time !!!! "
   ]
  },
  {
   "cell_type": "markdown",
   "id": "28772040",
   "metadata": {},
   "source": [
    "## K-Nearest Neighbor"
   ]
  },
  {
   "cell_type": "markdown",
   "id": "44253e3b",
   "metadata": {},
   "source": [
    "Using Grid Search CV"
   ]
  },
  {
   "cell_type": "code",
   "execution_count": 1,
   "id": "dd2b6831",
   "metadata": {},
   "outputs": [],
   "source": [
    "from sklearn.neighbors import KNeighborsClassifier\n",
    "from sklearn.metrics import accuracy_score\n",
    "from sklearn.metrics import confusion_matrix, accuracy_score\n",
    "from sklearn.model_selection import cross_val_predict\n",
    "from sklearn.metrics import roc_auc_score\n",
    "import joblib\n",
    "import os"
   ]
  },
  {
   "cell_type": "code",
   "execution_count": 33,
   "id": "cb6f6620",
   "metadata": {},
   "outputs": [
    {
     "name": "stdout",
     "output_type": "stream",
     "text": [
      "Best Parameter : {'n_neighbors': 4, 'p': 1, 'weights': 'distance'}\n",
      "Best Score     : 0.8694681163679107\n"
     ]
    }
   ],
   "source": [
    "from sklearn.model_selection import GridSearchCV #mencari parameter optimal\n",
    "from sklearn.metrics import make_scorer #mencari make score\n",
    "\n",
    "model = KNeighborsClassifier()\n",
    "scorer = make_scorer(accuracy_score, greater_is_better = True)\n",
    "parameters = [{'n_neighbors': [3,4,5,6,7,8,9,10],\n",
    "              'weights' : ['uniform', 'distance'],\n",
    "              'p' : [1,2]}]\n",
    "\n",
    "model_gscv = GridSearchCV(model, param_grid = parameters, scoring = scorer, cv = 5)\n",
    "model_gscv.fit(x, y)\n",
    "print('Best Parameter :', model_gscv.best_params_)\n",
    "print('Best Score     :', model_gscv.best_score_)"
   ]
  },
  {
   "cell_type": "code",
   "execution_count": 34,
   "id": "0cf91c58",
   "metadata": {},
   "outputs": [],
   "source": [
    "model = KNeighborsClassifier(n_neighbors = 4, weights = 'distance', p = 1)\n",
    "model.fit(x_train, y_train)\n",
    "y_pred = model.predict(x_test)"
   ]
  },
  {
   "cell_type": "code",
   "execution_count": 35,
   "id": "d7120abc",
   "metadata": {},
   "outputs": [
    {
     "data": {
      "image/png": "[encoded data removed]",
      "text/plain": [
       "<Figure size 576x432 with 1 Axes>"
      ]
     },
     "metadata": {
      "needs_background": "light"
     },
     "output_type": "display_data"
    }
   ],
   "source": [
    "from sklearn.metrics import confusion_matrix, ConfusionMatrixDisplay\n",
    "# create confusion matrix from predictions\n",
    "fig, ax = plt.subplots(figsize=(8, 6))\n",
    "ConfusionMatrixDisplay.from_predictions(\n",
    "    y_test, y_pred, labels=model.classes_, ax=ax, colorbar=False\n",
    ")\n",
    "plt.show()"
   ]
  },
  {
   "cell_type": "code",
   "execution_count": 36,
   "id": "b83c8830",
   "metadata": {},
   "outputs": [
    {
     "name": "stdout",
     "output_type": "stream",
     "text": [
      "akurasi K-NN : 93.97590361445783 %\n"
     ]
    }
   ],
   "source": [
    "accuracy = accuracy_score(y_pred, y_test)\n",
    "print(f'akurasi K-NN : {accuracy*100} %')"
   ]
  },
  {
   "cell_type": "code",
   "execution_count": 37,
   "id": "b6ad92ee",
   "metadata": {},
   "outputs": [
    {
     "data": {
      "text/plain": [
       "['./knn.joblib']"
      ]
     },
     "execution_count": 37,
     "metadata": {},
     "output_type": "execute_result"
    }
   ],
   "source": [
    "joblib.dump(model, \"./knn.joblib\")"
   ]
  },
  {
   "cell_type": "markdown",
   "id": "a0dbc2e9",
   "metadata": {},
   "source": [
    "### Testing saved model "
   ]
  },
  {
   "cell_type": "code",
   "execution_count": 3,
   "id": "917ceafc",
   "metadata": {},
   "outputs": [],
   "source": [
    "load_knn = joblib.load(\"./knn.joblib\")"
   ]
  },
  {
   "cell_type": "code",
   "execution_count": 4,
   "id": "ca49a17a",
   "metadata": {},
   "outputs": [],
   "source": [
    "trying = np.array([[120, 44, 68]])"
   ]
  },
  {
   "cell_type": "code",
   "execution_count": 5,
   "id": "9fdceb46",
   "metadata": {
    "scrolled": true
   },
   "outputs": [
    {
     "name": "stderr",
     "output_type": "stream",
     "text": [
      "C:\\Users\\lenovo\\miniconda3\\lib\\site-packages\\sklearn\\base.py:450: UserWarning: X does not have valid feature names, but KNeighborsClassifier was fitted with feature names\n",
      "  warnings.warn(\n"
     ]
    }
   ],
   "source": [
    "predict = load_knn.predict(trying)"
   ]
  },
  {
   "cell_type": "code",
   "execution_count": 6,
   "id": "86b5fba8",
   "metadata": {},
   "outputs": [
    {
     "data": {
      "text/plain": [
       "array([7])"
      ]
     },
     "execution_count": 6,
     "metadata": {},
     "output_type": "execute_result"
    }
   ],
   "source": [
    "predict"
   ]
  },
  {
   "cell_type": "code",
   "execution_count": 40,
   "id": "49ff46c2",
   "metadata": {},
   "outputs": [
    {
     "name": "stdout",
     "output_type": "stream",
     "text": [
      "akurasi K-NN : 93.97590361445783 %\n"
     ]
    }
   ],
   "source": [
    "accuracy = accuracy_score(predict, y_test)\n",
    "print(f'akurasi K-NN : {accuracy*100} %')"
   ]
  },
  {
   "cell_type": "markdown",
   "id": "7eb88f6e",
   "metadata": {},
   "source": [
    "## Random Forest"
   ]
  },
  {
   "cell_type": "code",
   "execution_count": 41,
   "id": "cafed4c8",
   "metadata": {},
   "outputs": [],
   "source": [
    "from sklearn.ensemble import RandomForestClassifier\n",
    "rf = RandomForestClassifier(class_weight='balanced',random_state=42)\n",
    "rf.fit(x_train,y_train)\n",
    "y_pred2 = rf.predict(x_test)"
   ]
  },
  {
   "cell_type": "code",
   "execution_count": 42,
   "id": "d4379b2d",
   "metadata": {},
   "outputs": [
    {
     "data": {
      "image/png": "[encoded data removed]",
      "text/plain": [
       "<Figure size 576x432 with 1 Axes>"
      ]
     },
     "metadata": {
      "needs_background": "light"
     },
     "output_type": "display_data"
    }
   ],
   "source": [
    "from sklearn.metrics import confusion_matrix, ConfusionMatrixDisplay\n",
    "# create confusion matrix from predictions\n",
    "fig, ax = plt.subplots(figsize=(8, 6))\n",
    "ConfusionMatrixDisplay.from_predictions(\n",
    "    y_test, y_pred2, labels=rf.classes_, ax=ax, colorbar=False\n",
    ")\n",
    "plt.show()"
   ]
  },
  {
   "cell_type": "code",
   "execution_count": 43,
   "id": "addd4f6e",
   "metadata": {},
   "outputs": [
    {
     "name": "stdout",
     "output_type": "stream",
     "text": [
      "akurasi Random Forest: 92.7710843373494 %\n"
     ]
    }
   ],
   "source": [
    "print(f'akurasi Random Forest: {rf.score(x_test, y_test)*100} %')"
   ]
  },
  {
   "cell_type": "code",
   "execution_count": 46,
   "id": "4d839ce6",
   "metadata": {},
   "outputs": [
    {
     "data": {
      "text/plain": [
       "['./random_forest.joblib']"
      ]
     },
     "execution_count": 46,
     "metadata": {},
     "output_type": "execute_result"
    }
   ],
   "source": [
    "joblib.dump(rf, \"./random_forest.joblib\")"
   ]
  },
  {
   "cell_type": "markdown",
   "id": "2e86f738",
   "metadata": {},
   "source": [
    "### Testing saved model"
   ]
  },
  {
   "cell_type": "code",
   "execution_count": 47,
   "id": "88705ea5",
   "metadata": {
    "scrolled": true
   },
   "outputs": [],
   "source": [
    "load_rf = joblib.load(\"./random_forest.joblib\")"
   ]
  },
  {
   "cell_type": "code",
   "execution_count": 48,
   "id": "5ec81cca",
   "metadata": {},
   "outputs": [],
   "source": [
    "predict_rf = load_rf.predict(x_test)"
   ]
  },
  {
   "cell_type": "code",
   "execution_count": 49,
   "id": "94e10770",
   "metadata": {},
   "outputs": [
    {
     "name": "stdout",
     "output_type": "stream",
     "text": [
      "akurasi random forest : 93.97590361445783 %\n"
     ]
    }
   ],
   "source": [
    "accuracy_rf = accuracy_score(predict_rf, y_test)\n",
    "print(f'akurasi random forest : {accuracy_rf*100} %')"
   ]
  }
 ],
 "metadata": {
  "kernelspec": {
   "display_name": "Python [conda env:cv_env]",
   "language": "python",
   "name": "conda-env-cv_env-py"
  },
  "language_info": {
   "codemirror_mode": {
    "name": "ipython",
    "version": 3
   },
   "file_extension": ".py",
   "mimetype": "text/x-python",
   "name": "python",
   "nbconvert_exporter": "python",
   "pygments_lexer": "ipython3",
   "version": "3.10.8"
  }
 },
 "nbformat": 4,
 "nbformat_minor": 5
}
